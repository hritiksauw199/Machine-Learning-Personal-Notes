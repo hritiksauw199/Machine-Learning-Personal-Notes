{
 "cells": [
  {
   "cell_type": "markdown",
   "id": "86137694",
   "metadata": {
    "collapsed": true
   },
   "source": [
    "# 1. Structured Data"
   ]
  },
  {
   "cell_type": "markdown",
   "id": "de732fc2",
   "metadata": {},
   "source": [
    "Two types of structured data: **Numeric** and **Categorical**\n",
    "\n",
    "1. **Numeric** - `Continuous` (wind speed) & `Discrete` (count of occurence of event)\n",
    "\n",
    "2. **Categorical** - Takes fixed set of values. Also, `Binary`(special type) & `Ordinal`\n",
    "\n",
    "\n",
    "Scikit-learn supports ordinal data with **`sklearn.preprocessing.OrdinalEncoder`**"
   ]
  },
  {
   "cell_type": "markdown",
   "id": "cd9e0d14",
   "metadata": {},
   "source": [
    "# 2. Rectangular Data"
   ]
  },
  {
   "cell_type": "markdown",
   "id": "dc980d3b",
   "metadata": {},
   "source": [
    "General term for a 2D matrix with <u>rows</u> indicating *records/entries* and <u>columns</u> indicating *features/variables*.\n",
    "\n",
    "Like a spreadsheet or database table\n",
    "\n",
    "\n",
    "### Nonrectangular Data\n",
    "\n",
    "* Time Series - records successive measurements of the same variable\n",
    "* Spatial data - used in mapping and location analytics\n",
    "* Graphs(or networks) - used to rep physical, social and abstract relationships"
   ]
  },
  {
   "cell_type": "markdown",
   "id": "ba2f98de",
   "metadata": {},
   "source": [
    "# 3. Estimation of Location"
   ]
  },
  {
   "cell_type": "markdown",
   "id": "c5bf6d23",
   "metadata": {},
   "source": [
    "1. **Mean** - Sum of all values divided by the number of values.\n",
    "2. **Weighted Mean** - The sum of all values times a weight divided by the sum of the weights.\n",
    "3. **Median** - The value such that one-half of the data lies above and below.\n",
    "4. **Percentile** - The value such that *P* percent of the data lies below\n",
    "5. **Weighted Median** -  The value such that one-half of the sum of the weights lies above and below the sorted data.\n",
    "6. **Trimmed Mean** -  The average of all values after dropping a fixed number of extreme values.\n",
    "7. **Robust** - Not sensitive to extreme values"
   ]
  },
  {
   "cell_type": "markdown",
   "id": "667e7c7b",
   "metadata": {},
   "source": [
    "### Trimmed Mean\n",
    "\n",
    "you calculate by dropping a fixed number of sorted values at each end and then taking an average of the remaining values.\n",
    "\n",
    "\n",
    "Formula to compute the trimmed mean with *p* smallest and largest values omitted is:"
   ]
  },
  {
   "attachments": {
    "1.png": {
     "image/png": "[encoded data removed]"
    }
   },
   "cell_type": "markdown",
   "id": "f2753771",
   "metadata": {},
   "source": [
    "![1.png](attachment:1.png)\n",
    "\n",
    "**A trimmed mean eliminates the influence of extreme values.**"
   ]
  },
  {
   "attachments": {
    "2.png": {
     "image/png": "[encoded data removed]"
    }
   },
   "cell_type": "markdown",
   "id": "41978bce",
   "metadata": {},
   "source": [
    "### Weighted Mean\n",
    "\n",
    "you calculate by multiplying each data value *x_i* by a user-speicifed weight *w_i* and dividing their sum by the sum of the weights.\n",
    "\n",
    "The formula for a weighted mean is:\n",
    "\n",
    "![2.png](attachment:2.png)\n",
    "\n",
    "There are two main motivations for using a weighted mean:\n",
    "\n",
    "-  Some values are intrinsically more variable than others, and highly variable observations are given a lower weight.\n",
    "- The data collected does not equally represent the different groups that we are interested in measuring. We give a higher weight to the values from the groups that were underrepresented."
   ]
  },
  {
   "cell_type": "markdown",
   "id": "0c5ae2a8",
   "metadata": {},
   "source": [
    "### Median (Robust estimation of location)\n",
    "\n",
    "- The median is the middle number on a sorted list of the data.\n",
    "\n",
    "- Instead of the middle number, the weighted median is a value such that the sum of the weights is equal for the lower and upper halves of the sorted list.\n",
    "\n",
    "**The median depends only on the values in the center of the sorted data.** \n",
    "\n",
    "**Median and weighted median is robust to outliers.**"
   ]
  },
  {
   "cell_type": "markdown",
   "id": "20ae6e33",
   "metadata": {},
   "source": [
    "`df['Col'].mean()/.median()` - *Mean & Median*\n",
    "\n",
    "`trim_mean(df['col], 0.1)` - *Trimmed mean (10%)*"
   ]
  },
  {
   "cell_type": "markdown",
   "id": "abb13408",
   "metadata": {},
   "source": [
    "# 4. Estimates of Variability\n",
    "\n",
    "*Variability*, also referred to as dispersion, measures whether the data values are tightly clustered or spread out. \n",
    "\n",
    "1. **Deviations** - The difference between observed values and estimates of location.\n",
    "2. **Variance** - The sum of squared deviations from the mean divided by n-1 (n - number of data values)\n",
    "3. **Mean absolute deviation** - The mean of the absolute values of the deviations from the mean\n",
    "4. **Percentile/ Quantile** - P % of values take on this vallue and (100 - P) % take this.\n",
    "5. **IQR** - Difference between 75 and 25 percentile."
   ]
  },
  {
   "cell_type": "code",
   "execution_count": null,
   "id": "abbd4446",
   "metadata": {},
   "outputs": [],
   "source": []
  }
 ],
 "metadata": {
  "kernelspec": {
   "display_name": "Python 3 (ipykernel)",
   "language": "python",
   "name": "python3"
  },
  "language_info": {
   "codemirror_mode": {
    "name": "ipython",
    "version": 3
   },
   "file_extension": ".py",
   "mimetype": "text/x-python",
   "name": "python",
   "nbconvert_exporter": "python",
   "pygments_lexer": "ipython3",
   "version": "3.12.4"
  }
 },
 "nbformat": 4,
 "nbformat_minor": 5
}
