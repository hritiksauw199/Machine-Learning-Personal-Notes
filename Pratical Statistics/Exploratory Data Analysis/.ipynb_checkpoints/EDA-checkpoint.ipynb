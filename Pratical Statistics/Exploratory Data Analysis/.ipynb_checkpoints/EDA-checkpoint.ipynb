{
 "cells": [
  {
   "cell_type": "markdown",
   "id": "86137694",
   "metadata": {
    "collapsed": true
   },
   "source": [
    "# Structured Data"
   ]
  },
  {
   "cell_type": "markdown",
   "id": "de732fc2",
   "metadata": {},
   "source": [
    "Two types of structured data: **Numeric** and **Categorical**\n",
    "\n",
    "1. **Numeric** - `Continuous` (wind speed) & `Discrete` (count of occurence of event)\n",
    "\n",
    "2. **Categorical** - Takes fixed set of values. Also, `Binary`(special type) & `Ordinal`\n",
    "\n",
    "\n",
    "Scikit-learn supports ordinal data with **`sklearn.preprocessing.OrdinalEncoder`**"
   ]
  },
  {
   "cell_type": "markdown",
   "id": "cd9e0d14",
   "metadata": {},
   "source": [
    "# Rectangular Data"
   ]
  },
  {
   "cell_type": "markdown",
   "id": "dc980d3b",
   "metadata": {},
   "source": [
    "General term for a 2D matrix with <u>rows</u> indicating *records/entries* and <u>columns</u> indicating *features/variables*.\n",
    "\n",
    "Like a spreadsheet or database table\n",
    "\n",
    "\n",
    "### Nonrectangular Data\n",
    "\n",
    "* Time Series - records successive measurements of the same variable\n",
    "* Spatial data - used in mapping and location analytics\n",
    "* Graphs(or networks) - used to rep physical, social and abstract relationships"
   ]
  },
  {
   "cell_type": "code",
   "execution_count": null,
   "id": "9471ddbc",
   "metadata": {},
   "outputs": [],
   "source": []
  }
 ],
 "metadata": {
  "kernelspec": {
   "display_name": "Python 3 (ipykernel)",
   "language": "python",
   "name": "python3"
  },
  "language_info": {
   "codemirror_mode": {
    "name": "ipython",
    "version": 3
   },
   "file_extension": ".py",
   "mimetype": "text/x-python",
   "name": "python",
   "nbconvert_exporter": "python",
   "pygments_lexer": "ipython3",
   "version": "3.12.4"
  }
 },
 "nbformat": 4,
 "nbformat_minor": 5
}
